{
  "nbformat": 4,
  "nbformat_minor": 0,
  "metadata": {
    "colab": {
      "provenance": []
    },
    "kernelspec": {
      "name": "python3",
      "display_name": "Python 3"
    },
    "language_info": {
      "name": "python"
    }
  },
  "cells": [
    {
      "cell_type": "code",
      "execution_count": 1,
      "metadata": {
        "colab": {
          "base_uri": "https://localhost:8080/"
        },
        "id": "NxeyRTTtPTCI",
        "outputId": "95e80464-0b8d-446c-c110-5bb38e8429cc"
      },
      "outputs": [
        {
          "output_type": "stream",
          "name": "stdout",
          "text": [
            "1. Empty array (2x2):\n",
            " [[4.88057639e-310 0.00000000e+000]\n",
            " [1.22777155e-259 6.01347002e-154]]\n",
            "\n",
            "2. All-ones array (4x2):\n",
            " [[1. 1.]\n",
            " [1. 1.]\n",
            " [1. 1.]\n",
            " [1. 1.]]\n",
            "\n",
            "3. Array filled with 7 (3x3):\n",
            " [[7 7 7]\n",
            " [7 7 7]\n",
            " [7 7 7]]\n",
            "\n",
            "4. Zeros array with same shape as given array:\n",
            " [[0 0]\n",
            " [0 0]]\n",
            "\n",
            "5. Ones array with same shape as given array:\n",
            " [[1 1]\n",
            " [1 1]]\n",
            "\n",
            "6. Convert list to numpy array:\n",
            " [1 2 3 4]\n"
          ]
        }
      ],
      "source": [
        "import numpy as np\n",
        "\n",
        "# 1. Initialize an empty array with size 2x2\n",
        "empty_array = np.empty((2, 2))\n",
        "print(\"1. Empty array (2x2):\\n\", empty_array)\n",
        "\n",
        "# 2. Initialize an all-ones array with size 4x2\n",
        "ones_array = np.ones((4, 2))\n",
        "print(\"\\n2. All-ones array (4x2):\\n\", ones_array)\n",
        "\n",
        "# 3. Return a new array of given shape and type, filled with a fill value (e.g., 7)\n",
        "fill_array = np.full((3, 3), 7)\n",
        "print(\"\\n3. Array filled with 7 (3x3):\\n\", fill_array)\n",
        "\n",
        "# 4. Return a new array of zeros with the same shape and type as a given array\n",
        "given_array = np.array([[1, 2], [3, 4]])\n",
        "zeros_like_array = np.zeros_like(given_array)\n",
        "print(\"\\n4. Zeros array with same shape as given array:\\n\", zeros_like_array)\n",
        "\n",
        "# 5. Return a new array of ones with the same shape and type as a given array\n",
        "ones_like_array = np.ones_like(given_array)\n",
        "print(\"\\n5. Ones array with same shape as given array:\\n\", ones_like_array)\n",
        "\n",
        "# 6. Convert an existing list to a NumPy array\n",
        "new_list = [1, 2, 3, 4]\n",
        "numpy_array = np.array(new_list)\n",
        "print(\"\\n6. Convert list to numpy array:\\n\", numpy_array)\n"
      ]
    },
    {
      "cell_type": "code",
      "source": [
        "import numpy as np\n",
        "\n",
        "# 1. Create an array with values ranging from 10 to 49\n",
        "arr_10_to_49 = np.arange(10, 50)\n",
        "print(\"1. Array with values from 10 to 49:\\n\", arr_10_to_49)\n",
        "\n",
        "# 2. Create a 3x3 matrix with values ranging from 0 to 8\n",
        "matrix_0_to_8 = np.arange(9).reshape(3, 3)\n",
        "print(\"\\n2. 3x3 matrix with values from 0 to 8:\\n\", matrix_0_to_8)\n",
        "\n",
        "# 3. Create a 3x3 identity matrix\n",
        "identity_matrix = np.eye(3)\n",
        "print(\"\\n3. 3x3 Identity matrix:\\n\", identity_matrix)\n",
        "\n",
        "# 4. Create a random array of size 30 and find the mean\n",
        "random_array_30 = np.random.random(30)\n",
        "mean_value = random_array_30.mean()\n",
        "print(\"\\n4. Random array of size 30:\\n\", random_array_30)\n",
        "print(\"   Mean of the array:\", mean_value)\n",
        "\n",
        "# 5. Create a 10x10 array with random values and find the minimum and maximum\n",
        "random_array_10x10 = np.random.random((10, 10))\n",
        "min_value = random_array_10x10.min()\n",
        "max_value = random_array_10x10.max()\n",
        "print(\"\\n5. 10x10 array with random values:\\n\", random_array_10x10)\n",
        "print(\"   Minimum value:\", min_value)\n",
        "print(\"   Maximum value:\", max_value)\n",
        "\n",
        "# 6. Create a zero array of size 10 and replace 5th element with 1\n",
        "zero_array = np.zeros(10)\n",
        "zero_array[4] = 1\n",
        "print(\"\\n6. Zero array with 5th element replaced by 1:\\n\", zero_array)\n",
        "\n",
        "# 7. Reverse an array\n",
        "arr = np.array([1, 2, 0, 0, 4, 0])\n",
        "reversed_arr = arr[::-1]\n",
        "print(\"\\n7. Reversed array:\\n\", reversed_arr)\n",
        "\n",
        "# 8. Create a 2D array with 1 on border and 0 inside\n",
        "border_array = np.ones((5, 5))\n",
        "border_array[1:-1, 1:-1] = 0\n",
        "print(\"\\n8. 2D array with 1 on border and 0 inside:\\n\", border_array)\n",
        "\n",
        "# 9. Create an 8x8 matrix and fill it with a checkerboard pattern\n",
        "checkerboard = np.zeros((8, 8), dtype=int)\n",
        "checkerboard[1::2, ::2] = 1\n",
        "checkerboard[::2, 1::2] = 1\n",
        "print(\"\\n9. 8x8 matrix with checkerboard pattern:\\n\", checkerboard)"
      ],
      "metadata": {
        "colab": {
          "base_uri": "https://localhost:8080/"
        },
        "id": "9hMdZaxKPbB3",
        "outputId": "f802a9fa-05d2-464a-da4b-2d64eadf2aa3"
      },
      "execution_count": 2,
      "outputs": [
        {
          "output_type": "stream",
          "name": "stdout",
          "text": [
            "1. Array with values from 10 to 49:\n",
            " [10 11 12 13 14 15 16 17 18 19 20 21 22 23 24 25 26 27 28 29 30 31 32 33\n",
            " 34 35 36 37 38 39 40 41 42 43 44 45 46 47 48 49]\n",
            "\n",
            "2. 3x3 matrix with values from 0 to 8:\n",
            " [[0 1 2]\n",
            " [3 4 5]\n",
            " [6 7 8]]\n",
            "\n",
            "3. 3x3 Identity matrix:\n",
            " [[1. 0. 0.]\n",
            " [0. 1. 0.]\n",
            " [0. 0. 1.]]\n",
            "\n",
            "4. Random array of size 30:\n",
            " [0.8499118  0.63185376 0.46472385 0.74865406 0.29622946 0.33276583\n",
            " 0.72678807 0.71125647 0.03026683 0.91280187 0.03249653 0.90085555\n",
            " 0.67048212 0.11352224 0.65996411 0.23659654 0.42789312 0.32489445\n",
            " 0.30384914 0.7583022  0.63850403 0.608624   0.15915632 0.04619041\n",
            " 0.67916928 0.99335093 0.67806623 0.62436109 0.42645471 0.41675333]\n",
            "   Mean of the array: 0.5134912785219394\n",
            "\n",
            "5. 10x10 array with random values:\n",
            " [[0.85350122 0.94754642 0.53183444 0.64747427 0.48443877 0.9016407\n",
            "  0.02163425 0.09107806 0.45630499 0.47884459]\n",
            " [0.90977417 0.14923232 0.2915208  0.56266332 0.15395556 0.69569377\n",
            "  0.63295112 0.87844379 0.34619458 0.01889303]\n",
            " [0.83419858 0.56566563 0.80932199 0.86077554 0.95017804 0.28299371\n",
            "  0.34907275 0.40895691 0.25643024 0.32452845]\n",
            " [0.40953848 0.0863754  0.56491889 0.86185821 0.97502649 0.08851035\n",
            "  0.68282801 0.88513772 0.69464116 0.1959131 ]\n",
            " [0.02962678 0.29898191 0.73858125 0.7500767  0.64844214 0.61729597\n",
            "  0.0718351  0.49853001 0.19652223 0.51733778]\n",
            " [0.84289659 0.40345583 0.61281797 0.07360541 0.138777   0.5229549\n",
            "  0.62983123 0.89694669 0.35968644 0.55790759]\n",
            " [0.6590802  0.03281808 0.53262548 0.57937443 0.15267247 0.03246381\n",
            "  0.35012687 0.05546137 0.3562973  0.14628401]\n",
            " [0.40034046 0.68772518 0.28736466 0.06586358 0.46401638 0.22819456\n",
            "  0.04303365 0.49972939 0.23154365 0.97802522]\n",
            " [0.07695989 0.94819503 0.3509257  0.87017188 0.82061254 0.98759788\n",
            "  0.27819732 0.06660422 0.08016775 0.89968425]\n",
            " [0.14785765 0.95529121 0.97873037 0.65526245 0.08789146 0.04478235\n",
            "  0.42885462 0.27196548 0.92472973 0.30503452]]\n",
            "   Minimum value: 0.01889302947319882\n",
            "   Maximum value: 0.9875978802252381\n",
            "\n",
            "6. Zero array with 5th element replaced by 1:\n",
            " [0. 0. 0. 0. 1. 0. 0. 0. 0. 0.]\n",
            "\n",
            "7. Reversed array:\n",
            " [0 4 0 0 2 1]\n",
            "\n",
            "8. 2D array with 1 on border and 0 inside:\n",
            " [[1. 1. 1. 1. 1.]\n",
            " [1. 0. 0. 0. 1.]\n",
            " [1. 0. 0. 0. 1.]\n",
            " [1. 0. 0. 0. 1.]\n",
            " [1. 1. 1. 1. 1.]]\n",
            "\n",
            "9. 8x8 matrix with checkerboard pattern:\n",
            " [[0 1 0 1 0 1 0 1]\n",
            " [1 0 1 0 1 0 1 0]\n",
            " [0 1 0 1 0 1 0 1]\n",
            " [1 0 1 0 1 0 1 0]\n",
            " [0 1 0 1 0 1 0 1]\n",
            " [1 0 1 0 1 0 1 0]\n",
            " [0 1 0 1 0 1 0 1]\n",
            " [1 0 1 0 1 0 1 0]]\n"
          ]
        }
      ]
    },
    {
      "cell_type": "code",
      "source": [
        "import numpy as np\n",
        "\n",
        "# Define the arrays\n",
        "x = np.array([[1, 2], [3, 5]])\n",
        "y = np.array([[5, 6], [7, 8]])\n",
        "v = np.array([9, 10])\n",
        "w = np.array([11, 12])\n",
        "\n",
        "# 1. Add the two arrays\n",
        "add_result = x + y\n",
        "print(\"1. Addition of x and y:\\n\", add_result)\n",
        "\n",
        "# 2. Subtract the two arrays\n",
        "subtract_result = x - y\n",
        "print(\"\\n2. Subtraction of x and y:\\n\", subtract_result)\n",
        "\n",
        "# 3. Multiply the array `x` by an integer (e.g., 3)\n",
        "multiply_result = x * 3\n",
        "print(\"\\n3. Multiplication of x by 3:\\n\", multiply_result)\n",
        "\n",
        "# 4. Find the square of each element in `x`\n",
        "square_result = np.square(x)\n",
        "print(\"\\n4. Square of each element in x:\\n\", square_result)\n",
        "\n",
        "# 5. Dot products\n",
        "dot_vw = np.dot(v, w)\n",
        "dot_xv = np.dot(x, v)  # This is valid because `v` can act as a column vector\n",
        "dot_xy = np.dot(x, y)\n",
        "print(\"\\n5. Dot products:\")\n",
        "print(\"   Dot product of v and w:\", dot_vw)\n",
        "print(\"   Dot product of x and v:\\n\", dot_xv)\n",
        "print(\"   Dot product of x and y:\\n\", dot_xy)\n",
        "\n",
        "# 6. Concatenate `x` and `y` along rows\n",
        "concat_xy_row = np.concatenate((x, y), axis=0)\n",
        "print(\"\\n6. Concatenate x and y along rows:\\n\", concat_xy_row)\n",
        "\n",
        "# Concatenate `v` and `w` along columns\n",
        "concat_vw_column = np.column_stack((v, w))\n",
        "print(\"\\n6. Concatenate v and w along columns:\\n\", concat_vw_column)\n",
        "\n",
        "# 7. Attempt to concatenate `x` and `v` (observe the error)\n",
        "try:\n",
        "    concat_xv = np.concatenate((x, v), axis=0)\n",
        "    print(\"\\n7. Concatenate x and v:\\n\", concat_xv)\n",
        "except ValueError as e:\n",
        "    print(\"\\n7. Concatenate x and v resulted in an error:\")\n",
        "    print(e)"
      ],
      "metadata": {
        "colab": {
          "base_uri": "https://localhost:8080/"
        },
        "id": "i7khDaVQPg8T",
        "outputId": "ff2d0ba7-3cc7-465a-cfd4-99bed1e6dfa0"
      },
      "execution_count": 3,
      "outputs": [
        {
          "output_type": "stream",
          "name": "stdout",
          "text": [
            "1. Addition of x and y:\n",
            " [[ 6  8]\n",
            " [10 13]]\n",
            "\n",
            "2. Subtraction of x and y:\n",
            " [[-4 -4]\n",
            " [-4 -3]]\n",
            "\n",
            "3. Multiplication of x by 3:\n",
            " [[ 3  6]\n",
            " [ 9 15]]\n",
            "\n",
            "4. Square of each element in x:\n",
            " [[ 1  4]\n",
            " [ 9 25]]\n",
            "\n",
            "5. Dot products:\n",
            "   Dot product of v and w: 219\n",
            "   Dot product of x and v:\n",
            " [29 77]\n",
            "   Dot product of x and y:\n",
            " [[19 22]\n",
            " [50 58]]\n",
            "\n",
            "6. Concatenate x and y along rows:\n",
            " [[1 2]\n",
            " [3 5]\n",
            " [5 6]\n",
            " [7 8]]\n",
            "\n",
            "6. Concatenate v and w along columns:\n",
            " [[ 9 11]\n",
            " [10 12]]\n",
            "\n",
            "7. Concatenate x and v resulted in an error:\n",
            "all the input arrays must have same number of dimensions, but the array at index 0 has 2 dimension(s) and the array at index 1 has 1 dimension(s)\n"
          ]
        }
      ]
    },
    {
      "cell_type": "code",
      "source": [
        "import numpy as np\n",
        "\n",
        "# Define the matrices\n",
        "A = np.array([[3, 4], [7, 8]])\n",
        "\n",
        "# Compute the inverse of A\n",
        "A_inv = np.linalg.inv(A)\n",
        "\n",
        "# Multiply A with its inverse\n",
        "result = np.dot(A, A_inv)\n",
        "\n",
        "# Print the result\n",
        "print(\"A * A^(-1) =\\n\", result)"
      ],
      "metadata": {
        "colab": {
          "base_uri": "https://localhost:8080/"
        },
        "id": "2OQZMQJaPiDw",
        "outputId": "afb2def4-2dd4-4618-9f6d-de6c2b7d63fa"
      },
      "execution_count": 4,
      "outputs": [
        {
          "output_type": "stream",
          "name": "stdout",
          "text": [
            "A * A^(-1) =\n",
            " [[1.00000000e+00 0.00000000e+00]\n",
            " [1.77635684e-15 1.00000000e+00]]\n"
          ]
        }
      ]
    },
    {
      "cell_type": "code",
      "source": [
        "# Define the second matrix\n",
        "B = np.array([[5, 3], [2, 1]])\n",
        "\n",
        "# Compute AB and BA\n",
        "AB = np.dot(A, B)\n",
        "BA = np.dot(B, A)\n",
        "\n",
        "# Print both results\n",
        "print(\"AB =\\n\", AB)\n",
        "print(\"BA =\\n\", BA)"
      ],
      "metadata": {
        "colab": {
          "base_uri": "https://localhost:8080/"
        },
        "id": "kbIo5q_iPnxo",
        "outputId": "d38ae5a6-38d4-4326-b96c-8a4a05435757"
      },
      "execution_count": 5,
      "outputs": [
        {
          "output_type": "stream",
          "name": "stdout",
          "text": [
            "AB =\n",
            " [[23 13]\n",
            " [51 29]]\n",
            "BA =\n",
            " [[36 44]\n",
            " [13 16]]\n"
          ]
        }
      ]
    },
    {
      "cell_type": "code",
      "source": [
        "# Compute (AB)^T\n",
        "AB_T = np.transpose(AB)\n",
        "\n",
        "# Compute B^T A^T\n",
        "BT_AT = np.dot(np.transpose(B), np.transpose(A))\n",
        "\n",
        "# Print both results\n",
        "print(\"(AB)^T =\\n\", AB_T)\n",
        "print(\"B^T A^T =\\n\", BT_AT)"
      ],
      "metadata": {
        "colab": {
          "base_uri": "https://localhost:8080/"
        },
        "id": "oxz59uyzPrNY",
        "outputId": "2014726d-f0b4-4121-83d2-4ea3a797bf1c"
      },
      "execution_count": 6,
      "outputs": [
        {
          "output_type": "stream",
          "name": "stdout",
          "text": [
            "(AB)^T =\n",
            " [[23 51]\n",
            " [13 29]]\n",
            "B^T A^T =\n",
            " [[23 51]\n",
            " [13 29]]\n"
          ]
        }
      ]
    },
    {
      "cell_type": "code",
      "source": [
        "# Define the coefficient matrix A and the constant matrix B\n",
        "A = np.array([[2, -3, 1],\n",
        "              [1, -1, 2],\n",
        "              [3, 1, -1]])\n",
        "B = np.array([-1, -3, 9])\n",
        "\n",
        "# Compute the solution using the inverse method\n",
        "A_inv = np.linalg.inv(A)\n",
        "X = np.dot(A_inv, B)\n",
        "\n",
        "# Print the solution\n",
        "print(\"Solution X =\\n\", X)"
      ],
      "metadata": {
        "colab": {
          "base_uri": "https://localhost:8080/"
        },
        "id": "olgsmEDNPt_2",
        "outputId": "7e08d0c6-641d-4366-9dc2-fcaeed844eef"
      },
      "execution_count": 7,
      "outputs": [
        {
          "output_type": "stream",
          "name": "stdout",
          "text": [
            "Solution X =\n",
            " [ 2.  1. -2.]\n"
          ]
        }
      ]
    },
    {
      "cell_type": "code",
      "source": [
        "# Solve the linear equations using np.linalg.solve\n",
        "X_solve = np.linalg.solve(A, B)\n",
        "\n",
        "# Print the solution\n",
        "print(\"Solution using np.linalg.solve X =\\n\", X_solve)"
      ],
      "metadata": {
        "colab": {
          "base_uri": "https://localhost:8080/"
        },
        "id": "9sFsVSbfPwwE",
        "outputId": "69a7815e-abd1-4505-ace6-8dd07a596156"
      },
      "execution_count": 8,
      "outputs": [
        {
          "output_type": "stream",
          "name": "stdout",
          "text": [
            "Solution using np.linalg.solve X =\n",
            " [ 2.  1. -2.]\n"
          ]
        }
      ]
    }
  ]
}